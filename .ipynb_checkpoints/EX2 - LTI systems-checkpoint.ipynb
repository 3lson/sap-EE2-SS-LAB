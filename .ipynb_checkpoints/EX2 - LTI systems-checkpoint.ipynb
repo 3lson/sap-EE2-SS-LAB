{
 "cells": [
  {
   "cell_type": "markdown",
   "id": "59c3b683",
   "metadata": {},
   "source": [
    "# Exercise  2 - LTI systems\n",
    "\n",
    "## Objectives\n",
    "- To investigate properties of LTI systems\n",
    "- To learn about the different representations of LTI systems\n",
    "- To understand the concept of convolution\n"
   ]
  },
  {
   "cell_type": "markdown",
   "id": "7dd2bd21",
   "metadata": {},
   "source": [
    "## Lab Exercise\n",
    "\n",
    "### Impulse response representation\n",
    "<img src=\"img/ex2b_1.svg\" alt=\"Drawing\" style=\"width: 900px;\"/>\n",
    "<center>Figure 2.1: Impulse response of a LTI system</center>\n",
    "\n",
    "Suppose we apply a unit impulse function, $\\delta[n]$, as an input to a Linear Time-Invariant (LTI) system. The output is the impulse response of the digital system, $h[n]$, as shown  in  Fig. 2.1. Since the discrete-time system is time-invariant, the filter response to $\\delta[n-k]$ is $h[n-k]$. \n",
    "\n",
    "In general, any input signal $x[n]$ can be decomposed into signal values at each time sample, i.e.\n",
    "\n",
    "$$ x[n]=\\big[x[0]\\delta[n], {x[1]\\delta[n-1]}, \\cdots, {x[N]\\delta[n-N]}\\big]$$\n",
    "Consequently, the filter output is \n",
    "\n",
    "$$\\boldsymbol{y}[n]=x[0]h[n]+x[1]{h[n-1]}+\\cdots+x[N]{h[n-N]}.$$ This is defined as **linear convolution**.\n",
    "\n",
    "#### Example\n",
    "Consider a sequence of unit impulses of length $(N+1)$ as the input, $\\big[\\delta[n],{\\delta[n-1]},\\cdots,{\\delta[n-N]}\\big]$. Due to linearity, the response of the digital filter will be the sum of the outputs i.e. $y[n]=h[n]+{h[n-1]}+\\cdots+{h[n-N]}$. \n",
    "\n",
    "<img src=\"img/ex5_2.svg\" alt=\"Drawing\" style=\"width: 900px;\"/>\n",
    "<center>Figure 2.2: Linear convolution in time domain</center>\n",
    "\n",
    "---\n",
    "####  Definition\n",
    "$$\\text{Linear Convolution: }y[n]=x[n]*h[n]\\overset{\\Delta}{=}\\sum^\\infty_{k=-\\infty}x[k]h[n-k]$$\n",
    "\n",
    "---\n",
    "\n",
    "If we substitute $r$ for $n-k$ this becomes:\n",
    "$$y[n]=\\sum_{r=-\\infty}^{\\infty}h[r]x[n-r]$$\n",
    "\n",
    "Thus, for any linear time-invariant (LTI) filter, the output values consist of the sum of the past input values, weighted by the elements of the impulse response $h[n]$. This has been shown in Fig. 2.2. \n",
    "\n",
    "**Question 2.1** What information is needed in order to compute the output of a discrete-time LTI system?\n"
   ]
  },
  {
   "cell_type": "markdown",
   "id": "04c25469",
   "metadata": {},
   "source": [
    "\n",
    "**Question 2.2** Implement a linear convolution using your own `my_conv` function in the cell below. Verify that it gives you the correct result using the example in Fig 2.2.\n",
    "> **GTA Tip**\n",
    ">\n",
    "> - The length of `y` is always `len(x)+len(h)-1`.\n",
    "> - You can shift all elements of the array `x` by `nshift` elements using `np.roll(x,nshift)`.\n",
    "> - You can multiply all alements of the array `x` by a scalar `c` using `x*c`.\n",
    "> - You can verify that your implementation is correct by using the `np.convolve()` function."
   ]
  },
  {
   "cell_type": "code",
   "execution_count": null,
   "id": "ce9673dd",
   "metadata": {},
   "outputs": [],
   "source": [
    "def my_conv(x,h):\n",
    "    y=np.zeros((len(x)+len(h)-1)) # This is always true\n",
    "    H=np.append(h, np.zeros(len(x)-1)) # append H with zeros so that len(H)=len(y)\n",
    "    X=np.append(x, np.zeros(len(h)-1)) # append X with zeros so that len(X)=len(y)\n",
    "    \n",
    "    for i in range(len(x)):\n",
    "        \n",
    "        xi_contribution= # add your code here\n",
    "        \n",
    "        y= # add your code here\n",
    "        \n",
    "    return y\n",
    "    \n",
    "    "
   ]
  },
  {
   "cell_type": "code",
   "execution_count": 134,
   "id": "87379324",
   "metadata": {},
   "outputs": [
    {
     "data": {
      "image/png": "[encoded data removed]",
      "text/plain": [
       "<Figure size 640x480 with 1 Axes>"
      ]
     },
     "metadata": {},
     "output_type": "display_data"
    }
   ],
   "source": [
    "import numpy as np\n",
    "import matplotlib.pyplot as plt\n",
    "from functions.lab_functions import plot_signal\n",
    "\n",
    "x=[0,1,1,1] # this is the example in Fig 2.2\n",
    "h = [0.6, 0.8, 1, 0.3] # this is the example in Fig 2.2\n",
    "\n",
    "y=my_conv(x,h)\n",
    "\n",
    "plt = plot_signal(y, title='Linear Convolution', xlabel='Time [sample no.]', ylabel='Amplitude', func='stem')\n",
    "plt.savefig('results/ex2/ex2_linear_convolution.pdf')\n",
    "plt.show()"
   ]
  },
  {
   "cell_type": "markdown",
   "id": "3b1efd14",
   "metadata": {},
   "source": [
    "**Question 2.3** What will happen to `y` if you change `x` to `[0,0,0,1,1,1]`? Check your answer using `my_conv`."
   ]
  },
  {
   "cell_type": "markdown",
   "id": "ddfc5659",
   "metadata": {},
   "source": [
    "**Question 2.4** Similarly, what will happen to `y` if you change `x` to `[0, 2, 2, 2]`?"
   ]
  },
  {
   "cell_type": "markdown",
   "id": "b080fcdd",
   "metadata": {},
   "source": [
    "### Difference equation representation\n",
    "\n",
    "You have seen in lectures that discrete-time LTI systems can also be represented using difference equations, i.e.\n",
    "$$ \\sum_{k=0}^N a_ky[n-k]=\\sum_{k=0}^{M}b_k x[n-k]$$\n",
    "where $a_k$ and $b_k$ are constant coefficients. This forms shows how the output at time $n$, $y[n]$, can be obtained as a weighted sum of past outputs and past and present inputs to the system."
   ]
  },
  {
   "cell_type": "markdown",
   "id": "5b35b593",
   "metadata": {},
   "source": [
    "**Question 2.5** Given a system with $a_0=1$, $a_1=-0.25$, $b_0=1$ and all other coefficients zero, write its difference equation."
   ]
  },
  {
   "cell_type": "markdown",
   "id": "cda0aefd",
   "metadata": {},
   "source": [
    "**Question 2.6** Compute the output the system for $x[n]=\\delta[n]$ using Python. Calculate $N=5$ output values and assume zero initial conditions. What is the function that you obtain?"
   ]
  },
  {
   "cell_type": "code",
   "execution_count": null,
   "id": "f66dbe70",
   "metadata": {},
   "outputs": [],
   "source": [
    "N=5\n",
    "ic=0 # zero initial conditions\n",
    "y=[]\n",
    "x=np.concatenate((np.ones(1),np.zeros(N-1)))\n",
    "for i in range(N):\n",
    "    \n",
    "    # add your code here\n",
    "    \n",
    "plt = plot_signal(y, title='System output', xlabel='Time [sample no.]', ylabel='Amplitude', func='stem')\n",
    "plt.savefig('results/ex2/ex2_difference_equation.pdf')\n",
    "plt.show()\n"
   ]
  },
  {
   "cell_type": "markdown",
   "id": "294b957d",
   "metadata": {},
   "source": [
    "**Question 2.7** Increase the value of $N$ to `[10, 50, 100]` and examine the last value of `y` using `print(y[-1])`. What can you say about this system?"
   ]
  },
  {
   "cell_type": "markdown",
   "id": "fc40d74a",
   "metadata": {},
   "source": [
    "**Question 2.8** Change your code to have $x[n]=0$ and $y[-1]=2$. Compare your plot to Exercise 12 of Problem Sheet 2."
   ]
  }
 ],
 "metadata": {
  "kernelspec": {
   "display_name": "Python 3 (ipykernel)",
   "language": "python",
   "name": "python3"
  },
  "language_info": {
   "codemirror_mode": {
    "name": "ipython",
    "version": 3
   },
   "file_extension": ".py",
   "mimetype": "text/x-python",
   "name": "python",
   "nbconvert_exporter": "python",
   "pygments_lexer": "ipython3",
   "version": "3.10.8"
  }
 },
 "nbformat": 4,
 "nbformat_minor": 5
}
